{
  "nbformat": 4,
  "nbformat_minor": 0,
  "metadata": {
    "colab": {
      "provenance": [],
      "authorship_tag": "ABX9TyN0dFtODeFMbQQDnJEI2zau",
      "include_colab_link": true
    },
    "kernelspec": {
      "name": "python3",
      "display_name": "Python 3"
    },
    "language_info": {
      "name": "python"
    }
  },
  "cells": [
    {
      "cell_type": "markdown",
      "metadata": {
        "id": "view-in-github",
        "colab_type": "text"
      },
      "source": [
        "<a href=\"https://colab.research.google.com/github/JihunSKKU/PySpark/blob/main/SpqrkML.ipynb\" target=\"_parent\"><img src=\"https://colab.research.google.com/assets/colab-badge.svg\" alt=\"Open In Colab\"/></a>"
      ]
    },
    {
      "cell_type": "markdown",
      "source": [
        "# SparkML - Lec08"
      ],
      "metadata": {
        "id": "zSdR_mD9k7qG"
      }
    },
    {
      "cell_type": "markdown",
      "source": [
        "## Spark ML library - Clustering\n",
        "\n",
        "K-means clustering algorithm\n",
        "1. Initialize centroids\n",
        "2. Assign cluster to each data according to its nearest centroid\n",
        "3. Update centroids towards the center of data\n",
        "4. Repeat 2, 3 until centroids remain unchanged"
      ],
      "metadata": {
        "id": "-rJtHiVYsm6E"
      }
    },
    {
      "cell_type": "code",
      "source": [
        "from pyspark.sql import SparkSession\n",
        "from pyspark.ml.clustering import KMeans\n",
        "from pyspark.ml.feature import VectorAssembler\n",
        "\n",
        "spark = SparkSession.builder.appName(\"KMeansPractice\").getOrCreate()\n",
        "\n",
        "data = [[0.0, 0.1], [1.0, 1.0], [0.5, 0.6], [0.5, 2.0], [9.0, 8.0], [8.0, 9.0], [9.0, 9.5], [10.0, 10.0]]\n",
        "columns = [\"feature1\", \"feature2\"]\n",
        "\n",
        "df = spark.createDataFrame(data, columns)\n",
        "df.show()"
      ],
      "metadata": {
        "colab": {
          "base_uri": "https://localhost:8080/"
        },
        "id": "-kdmOpqHsmQ8",
        "outputId": "c6015862-3e11-42a8-ba5c-fdd9b528e69c"
      },
      "execution_count": null,
      "outputs": [
        {
          "output_type": "stream",
          "name": "stdout",
          "text": [
            "+--------+--------+\n",
            "|feature1|feature2|\n",
            "+--------+--------+\n",
            "|     0.0|     0.1|\n",
            "|     1.0|     1.0|\n",
            "|     0.5|     0.6|\n",
            "|     0.5|     2.0|\n",
            "|     9.0|     8.0|\n",
            "|     8.0|     9.0|\n",
            "|     9.0|     9.5|\n",
            "|    10.0|    10.0|\n",
            "+--------+--------+\n",
            "\n"
          ]
        }
      ]
    },
    {
      "cell_type": "code",
      "source": [
        "assembler = VectorAssembler(inputCols=columns, outputCol=\"features\")\n",
        "\n",
        "df = assembler.transform(df)\n",
        "df.show()"
      ],
      "metadata": {
        "colab": {
          "base_uri": "https://localhost:8080/"
        },
        "id": "g_oLaG7ts9ea",
        "outputId": "9999a4a5-4152-4fd2-e94f-eb3284d0b88a"
      },
      "execution_count": null,
      "outputs": [
        {
          "output_type": "stream",
          "name": "stdout",
          "text": [
            "+--------+--------+-----------+\n",
            "|feature1|feature2|   features|\n",
            "+--------+--------+-----------+\n",
            "|     0.0|     0.1|  [0.0,0.1]|\n",
            "|     1.0|     1.0|  [1.0,1.0]|\n",
            "|     0.5|     0.6|  [0.5,0.6]|\n",
            "|     0.5|     2.0|  [0.5,2.0]|\n",
            "|     9.0|     8.0|  [9.0,8.0]|\n",
            "|     8.0|     9.0|  [8.0,9.0]|\n",
            "|     9.0|     9.5|  [9.0,9.5]|\n",
            "|    10.0|    10.0|[10.0,10.0]|\n",
            "+--------+--------+-----------+\n",
            "\n"
          ]
        }
      ]
    },
    {
      "cell_type": "markdown",
      "source": [
        "### Train the K-means model\n",
        "- KMeans(featuresCol, predictionCol, k, maxIter, distanceMeasure)\n",
        "    - featuresCol: Features column name.\n",
        "    - predictionCol: Prediction column name.\n",
        "    - k: The number of clusters to create.\n",
        "    - maxIter: Max number of iteration.\n",
        "    - distanceMeasure: The distance measure. (euclidean/cosine)\n"
      ],
      "metadata": {
        "id": "dy8M8IZ6tHeE"
      }
    },
    {
      "cell_type": "code",
      "source": [
        "kmeans = KMeans(featuresCol='features',\n",
        "                predictionCol='prediction',\n",
        "                k=2,\n",
        "                maxIter=20,\n",
        "                distanceMeasure='euclidean')\n",
        "\n",
        "model = kmeans.fit(df)"
      ],
      "metadata": {
        "id": "f1tnRBsEtE9B"
      },
      "execution_count": null,
      "outputs": []
    },
    {
      "cell_type": "code",
      "source": [
        "centroids = model.clusterCenters()\n",
        "predictions = model.transform(df).select(\"features\", \"prediction\")"
      ],
      "metadata": {
        "id": "EjZZ83yttaDn"
      },
      "execution_count": null,
      "outputs": []
    },
    {
      "cell_type": "markdown",
      "source": [
        "## Spark ML library - Classification"
      ],
      "metadata": {
        "id": "nzBiKysFstlQ"
      }
    },
    {
      "cell_type": "markdown",
      "source": [
        "### Logistic Regression"
      ],
      "metadata": {
        "id": "F2KiGl37wXz3"
      }
    },
    {
      "cell_type": "code",
      "source": [
        "from pyspark.sql import SparkSession\n",
        "from pyspark.ml.feature import VectorAssembler\n",
        "\n",
        "spark = SparkSession.builder.appName(\"IrisLogisticRegression\").getOrCreate()\n",
        "\n",
        "iris_data = spark.read.option('header', 'true').option('inferSchema', 'true').csv('Iris.csv')"
      ],
      "metadata": {
        "id": "_ulVMtU8s9D7"
      },
      "execution_count": null,
      "outputs": []
    },
    {
      "cell_type": "code",
      "source": [
        "from pyspark.sql.functions import udf\n",
        "from pyspark.sql.types import IntegerType\n",
        "idx_dict = {'Iris-setosa': 0,\n",
        "            'Iris-versicolor': 1,\n",
        "            'Iris-virginica': 2}\n",
        "\n",
        "# User Define Function\n",
        "label_mapping_udf = udf(lambda label: idx_dict.get(label), IntegerType())\n",
        "iris_data = iris_data.withColumn(\"Species\", label_mapping_udf(iris_data[\"Species\"]))\n",
        "iris_data.show()"
      ],
      "metadata": {
        "colab": {
          "base_uri": "https://localhost:8080/"
        },
        "id": "twa3ULuksuzP",
        "outputId": "3c2e36bf-0520-482d-e233-201d47af10d9"
      },
      "execution_count": null,
      "outputs": [
        {
          "output_type": "stream",
          "name": "stdout",
          "text": [
            "+---+-------------+------------+-------------+------------+-------+\n",
            "| Id|SepalLengthCm|SepalWidthCm|PetalLengthCm|PetalWidthCm|Species|\n",
            "+---+-------------+------------+-------------+------------+-------+\n",
            "|  1|          5.1|         3.5|          1.4|         0.2|      0|\n",
            "|  2|          4.9|         3.0|          1.4|         0.2|      0|\n",
            "|  3|          4.7|         3.2|          1.3|         0.2|      0|\n",
            "|  4|          4.6|         3.1|          1.5|         0.2|      0|\n",
            "|  5|          5.0|         3.6|          1.4|         0.2|      0|\n",
            "|  6|          5.4|         3.9|          1.7|         0.4|      0|\n",
            "|  7|          4.6|         3.4|          1.4|         0.3|      0|\n",
            "|  8|          5.0|         3.4|          1.5|         0.2|      0|\n",
            "|  9|          4.4|         2.9|          1.4|         0.2|      0|\n",
            "| 10|          4.9|         3.1|          1.5|         0.1|      0|\n",
            "| 11|          5.4|         3.7|          1.5|         0.2|      0|\n",
            "| 12|          4.8|         3.4|          1.6|         0.2|      0|\n",
            "| 13|          4.8|         3.0|          1.4|         0.1|      0|\n",
            "| 14|          4.3|         3.0|          1.1|         0.1|      0|\n",
            "| 15|          5.8|         4.0|          1.2|         0.2|      0|\n",
            "| 16|          5.7|         4.4|          1.5|         0.4|      0|\n",
            "| 17|          5.4|         3.9|          1.3|         0.4|      0|\n",
            "| 18|          5.1|         3.5|          1.4|         0.3|      0|\n",
            "| 19|          5.7|         3.8|          1.7|         0.3|      0|\n",
            "| 20|          5.1|         3.8|          1.5|         0.3|      0|\n",
            "+---+-------------+------------+-------------+------------+-------+\n",
            "only showing top 20 rows\n",
            "\n"
          ]
        }
      ]
    },
    {
      "cell_type": "code",
      "source": [
        "# Assemble the features into a vector column and name the column to \"features\"\n",
        "assembler = VectorAssembler(inputCols=[\"SepalLengthCm\", \"SepalWidthCm\", \"PetalLengthCm\", \"PetalWidthCm\"],\n",
        "                            outputCol=\"features\")\n",
        "\n",
        "# Rename the target column to \"label\"\n",
        "iris_data = assembler.transform(iris_data).select(\"features\", \"Species\").withColumnRenamed(\"Species\", \"label\")"
      ],
      "metadata": {
        "id": "b5laqOWdufZZ"
      },
      "execution_count": null,
      "outputs": []
    },
    {
      "cell_type": "code",
      "source": [
        "train_data, test_data = iris_data.randomSplit([0.8, 0.2], seed=2023)"
      ],
      "metadata": {
        "id": "sjyqb42OuusD"
      },
      "execution_count": null,
      "outputs": []
    },
    {
      "cell_type": "code",
      "source": [
        "from pyspark.ml.classification import LogisticRegression\n",
        "\n",
        "logistic_regression = LogisticRegression(featuresCol=\"features\",\n",
        "                                         labelCol=\"label\",\n",
        "                                         predictionCol='prediction',\n",
        "                                         maxIter=100)\n",
        "\n",
        "model = logistic_regression.fit(train_data)"
      ],
      "metadata": {
        "id": "oC_lhCLwuwjU"
      },
      "execution_count": null,
      "outputs": []
    },
    {
      "cell_type": "code",
      "source": [
        "model"
      ],
      "metadata": {
        "colab": {
          "base_uri": "https://localhost:8080/"
        },
        "id": "H5LpEI8uu2BX",
        "outputId": "53d30a6d-1421-410c-99eb-4b8247246044"
      },
      "execution_count": null,
      "outputs": [
        {
          "output_type": "execute_result",
          "data": {
            "text/plain": [
              "LogisticRegressionModel: uid=LogisticRegression_06b914faa6d6, numClasses=3, numFeatures=4"
            ]
          },
          "metadata": {},
          "execution_count": 111
        }
      ]
    },
    {
      "cell_type": "code",
      "source": [
        "predictions = model.transform(test_data)"
      ],
      "metadata": {
        "id": "sw9okWngvcwx"
      },
      "execution_count": null,
      "outputs": []
    },
    {
      "cell_type": "code",
      "source": [
        "predictions.show()"
      ],
      "metadata": {
        "colab": {
          "base_uri": "https://localhost:8080/"
        },
        "id": "H1i_7piRwKaZ",
        "outputId": "b026795e-0927-404c-d1f7-9c676a7a9ce1"
      },
      "execution_count": null,
      "outputs": [
        {
          "output_type": "stream",
          "name": "stdout",
          "text": [
            "+-----------------+-----+--------------------+--------------------+----------+\n",
            "|         features|label|       rawPrediction|         probability|prediction|\n",
            "+-----------------+-----+--------------------+--------------------+----------+\n",
            "|[4.7,3.2,1.3,0.2]|    0|[9438.32169347803...|       [1.0,0.0,0.0]|       0.0|\n",
            "|[4.9,3.1,1.5,0.1]|    0|[8794.92750919444...|       [1.0,0.0,0.0]|       0.0|\n",
            "|[5.0,3.6,1.4,0.2]|    0|[9604.88573039206...|       [1.0,0.0,0.0]|       0.0|\n",
            "|[5.4,3.9,1.7,0.4]|    0|[8318.84741194077...|       [1.0,0.0,0.0]|       0.0|\n",
            "|[5.5,2.4,3.7,1.0]|    1|[-711.8096549038,...|       [0.0,1.0,0.0]|       1.0|\n",
            "|[5.5,2.5,4.0,1.3]|    1|[-1965.4704489795...|       [0.0,1.0,0.0]|       1.0|\n",
            "|[5.6,3.0,4.1,1.3]|    1|[-1128.9673545014...|       [0.0,1.0,0.0]|       1.0|\n",
            "|[5.6,3.0,4.5,1.5]|    1|[-2440.3856093591...|       [0.0,1.0,0.0]|       1.0|\n",
            "|[5.7,2.8,4.1,1.3]|    1|[-1826.3269796827...|       [0.0,1.0,0.0]|       1.0|\n",
            "|[5.8,2.7,4.1,1.0]|    1|[-1258.7122062005...|       [0.0,1.0,0.0]|       1.0|\n",
            "|[6.1,2.8,4.7,1.2]|    1|[-3285.6376804798...|       [0.0,1.0,0.0]|       1.0|\n",
            "|[6.1,3.0,4.9,1.8]|    2|[-5163.7950144830...|[0.0,2.4006923202...|       2.0|\n",
            "|[6.2,2.2,4.5,1.5]|    1|[-5658.1697700489...|       [0.0,1.0,0.0]|       1.0|\n",
            "|[6.3,2.3,4.4,1.3]|    1|[-4791.2041381852...|       [0.0,1.0,0.0]|       1.0|\n",
            "|[6.3,2.5,4.9,1.5]|    1|[-5776.7266613810...|       [0.0,1.0,0.0]|       1.0|\n",
            "|[6.3,2.8,5.1,1.5]|    2|[-5366.5285956567...|       [0.0,1.0,0.0]|       1.0|\n",
            "|[6.3,3.3,4.7,1.6]|    1|[-3870.5243538655...|       [0.0,1.0,0.0]|       1.0|\n",
            "|[6.3,3.4,5.6,2.4]|    2|[-7773.5665309372...|       [0.0,0.0,1.0]|       2.0|\n",
            "|[6.4,2.7,5.3,1.9]|    2|[-7501.3849517314...|       [0.0,0.0,1.0]|       2.0|\n",
            "|[6.4,2.8,5.6,2.2]|    2|[-8755.0457458071...|       [0.0,0.0,1.0]|       2.0|\n",
            "+-----------------+-----+--------------------+--------------------+----------+\n",
            "only showing top 20 rows\n",
            "\n"
          ]
        }
      ]
    },
    {
      "cell_type": "code",
      "source": [
        "from pyspark.ml.evaluation import MulticlassClassificationEvaluator\n",
        "\n",
        "evaluator = MulticlassClassificationEvaluator(labelCol=\"label\", predictionCol=\"prediction\", metricName=\"accuracy\")\n",
        "\n",
        "accuracy = evaluator.evaluate(predictions)\n",
        "print(f\"Accuracy: {accuracy}\")"
      ],
      "metadata": {
        "colab": {
          "base_uri": "https://localhost:8080/"
        },
        "id": "h7kdWC0awM0F",
        "outputId": "56c0cca6-4687-497d-e596-d3df3bc1d7b0"
      },
      "execution_count": null,
      "outputs": [
        {
          "output_type": "stream",
          "name": "stdout",
          "text": [
            "Accuracy: 0.9583333333333334\n"
          ]
        }
      ]
    },
    {
      "cell_type": "code",
      "source": [],
      "metadata": {
        "id": "fypJDEgEwRrF"
      },
      "execution_count": null,
      "outputs": []
    }
  ]
}